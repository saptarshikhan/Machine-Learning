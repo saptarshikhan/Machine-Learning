{
 "cells": [
  {
   "cell_type": "code",
   "execution_count": 2,
   "id": "92e8159c",
   "metadata": {},
   "outputs": [
    {
     "name": "stdout",
     "output_type": "stream",
     "text": [
      "6\n",
      "10\n"
     ]
    }
   ],
   "source": [
    "import numpy as np\n",
    "\n",
    "arr = np.array([[[1, 2, 3], [4, 5, 6]], [[7, 8, 9], [10, 11, 12]]])\n",
    "\n",
    "print(arr[0, 1, 2])\n",
    "print(arr[1,1,-3])"
   ]
  },
  {
   "cell_type": "code",
   "execution_count": 2,
   "id": "d4cdab49",
   "metadata": {},
   "outputs": [],
   "source": [
    "#disp\n",
    "import numpy as np\n",
    "import random"
   ]
  },
  {
   "cell_type": "code",
   "execution_count": 6,
   "id": "afb2f029",
   "metadata": {},
   "outputs": [
    {
     "name": "stdout",
     "output_type": "stream",
     "text": [
      "[68 40 28 32 15 45 73 80 70 48 63 48 46 94  8 89 73 92 37 66 70 13 18 76\n",
      " 85 40 80 56 39 63]\n",
      "[[68 40 28 32 15]\n",
      " [45 73 80 70 48]\n",
      " [63 48 46 94  8]\n",
      " [89 73 92 37 66]\n",
      " [70 13 18 76 85]\n",
      " [40 80 56 39 63]]\n",
      "[[68 40 28 32 15 45]\n",
      " [73 80 70 48 63 48]\n",
      " [46 94  8 89 73 92]\n",
      " [37 66 70 13 18 76]\n",
      " [85 40 80 56 39 63]]\n",
      "╒════╤════╤════╤════╤════╕\n",
      "│ 68 │ 40 │ 28 │ 32 │ 15 │\n",
      "├────┼────┼────┼────┼────┤\n",
      "│ 45 │ 73 │ 80 │ 70 │ 48 │\n",
      "├────┼────┼────┼────┼────┤\n",
      "│ 63 │ 48 │ 46 │ 94 │  8 │\n",
      "├────┼────┼────┼────┼────┤\n",
      "│ 89 │ 73 │ 92 │ 37 │ 66 │\n",
      "├────┼────┼────┼────┼────┤\n",
      "│ 70 │ 13 │ 18 │ 76 │ 85 │\n",
      "├────┼────┼────┼────┼────┤\n",
      "│ 40 │ 80 │ 56 │ 39 │ 63 │\n",
      "╘════╧════╧════╧════╧════╛\n"
     ]
    }
   ],
   "source": [
    "import random\n",
    "from tabulate import tabulate\n",
    "import numpy as np\n",
    "arr=np.array([random.randint(1,100) for i in range(30)])\n",
    "print(arr)\n",
    "a=arr.reshape(6,5)\n",
    "b=arr.reshape(5,6)\n",
    "print(a)\n",
    "print(b)\n",
    "print(tabulate(a,tablefmt=\"fancy_grid\"))\n"
   ]
  },
  {
   "cell_type": "code",
   "execution_count": 4,
   "id": "5f8210b1",
   "metadata": {},
   "outputs": [
    {
     "name": "stdout",
     "output_type": "stream",
     "text": [
      "[1 3 5 7 9]\n",
      "[ 2  6 10 14 18]\n"
     ]
    }
   ],
   "source": [
    "arr=np.array([i for i in range(1,10) if i%2!=0])\n",
    "print(arr)\n",
    "print(arr*2)"
   ]
  },
  {
   "cell_type": "code",
   "execution_count": 8,
   "id": "579762ea",
   "metadata": {},
   "outputs": [],
   "source": [
    "import random\n",
    "arr=np.array([random.randint(1,1000) for i in range(10)])\n",
    "\n"
   ]
  },
  {
   "cell_type": "code",
   "execution_count": 12,
   "id": "d6bfbfdd",
   "metadata": {},
   "outputs": [
    {
     "data": {
      "text/plain": [
       "array([120, 272, 122,  42])"
      ]
     },
     "execution_count": 12,
     "metadata": {},
     "output_type": "execute_result"
    }
   ],
   "source": [
    "arr[arr%2==0]"
   ]
  },
  {
   "cell_type": "code",
   "execution_count": 7,
   "id": "b457a5bb",
   "metadata": {},
   "outputs": [
    {
     "name": "stdout",
     "output_type": "stream",
     "text": [
      "94\n",
      "8\n"
     ]
    }
   ],
   "source": [
    "arr[arr%2!=0]\n",
    "print(arr.max())\n",
    "print(arr.min())"
   ]
  },
  {
   "cell_type": "code",
   "execution_count": 14,
   "id": "dca3d819",
   "metadata": {},
   "outputs": [
    {
     "data": {
      "text/plain": [
       "array([0, 2, 4, 6, 8])"
      ]
     },
     "execution_count": 14,
     "metadata": {},
     "output_type": "execute_result"
    }
   ],
   "source": [
    "a=np.arange(0,10,2)\n",
    "a"
   ]
  },
  {
   "cell_type": "code",
   "execution_count": 15,
   "id": "dd267abf",
   "metadata": {},
   "outputs": [
    {
     "data": {
      "text/plain": [
       "array([1.        , 1.44444444, 1.88888889, 2.33333333, 2.77777778,\n",
       "       3.22222222, 3.66666667, 4.11111111, 4.55555556, 5.        ])"
      ]
     },
     "execution_count": 15,
     "metadata": {},
     "output_type": "execute_result"
    }
   ],
   "source": [
    "a=np.linspace(1,5,10)\n",
    "a"
   ]
  },
  {
   "cell_type": "code",
   "execution_count": 21,
   "id": "e7386719",
   "metadata": {},
   "outputs": [
    {
     "ename": "AttributeError",
     "evalue": "'numpy.ndarray' object has no attribute 'getI'",
     "output_type": "error",
     "traceback": [
      "\u001b[1;31m---------------------------------------------------------------------------\u001b[0m",
      "\u001b[1;31mAttributeError\u001b[0m                            Traceback (most recent call last)",
      "\u001b[1;32m~\\AppData\\Local\\Temp\\ipykernel_11812\\1549813072.py\u001b[0m in \u001b[0;36m<module>\u001b[1;34m\u001b[0m\n\u001b[0;32m      1\u001b[0m \u001b[1;32mimport\u001b[0m \u001b[0mnumpy\u001b[0m \u001b[1;32mas\u001b[0m \u001b[0mnp\u001b[0m\u001b[1;33m\u001b[0m\u001b[1;33m\u001b[0m\u001b[0m\n\u001b[0;32m      2\u001b[0m \u001b[0ma\u001b[0m\u001b[1;33m=\u001b[0m\u001b[0mnp\u001b[0m\u001b[1;33m.\u001b[0m\u001b[0marray\u001b[0m\u001b[1;33m(\u001b[0m\u001b[1;34m'[1, 2; 3, 4 ]'\u001b[0m\u001b[1;33m)\u001b[0m\u001b[1;33m\u001b[0m\u001b[1;33m\u001b[0m\u001b[0m\n\u001b[1;32m----> 3\u001b[1;33m \u001b[0mb\u001b[0m \u001b[1;33m=\u001b[0m \u001b[0ma\u001b[0m\u001b[1;33m.\u001b[0m\u001b[0mgetI\u001b[0m\u001b[1;33m(\u001b[0m\u001b[1;33m)\u001b[0m\u001b[1;33m\u001b[0m\u001b[1;33m\u001b[0m\u001b[0m\n\u001b[0m\u001b[0;32m      4\u001b[0m \u001b[0mprint\u001b[0m\u001b[1;33m(\u001b[0m\u001b[0mb\u001b[0m\u001b[1;33m)\u001b[0m\u001b[1;33m\u001b[0m\u001b[1;33m\u001b[0m\u001b[0m\n",
      "\u001b[1;31mAttributeError\u001b[0m: 'numpy.ndarray' object has no attribute 'getI'"
     ]
    }
   ],
   "source": [
    "import numpy as np\n",
    "a=np.array('[1, 2; 3, 4 ]')\n",
    "b = a.getI()\n",
    "print(b)"
   ]
  },
  {
   "cell_type": "code",
   "execution_count": 30,
   "id": "a387c395",
   "metadata": {},
   "outputs": [
    {
     "data": {
      "text/plain": [
       "array([[1, 1, 1, 1, 1],\n",
       "       [1, 0, 0, 0, 1],\n",
       "       [1, 0, 0, 0, 1],\n",
       "       [1, 0, 0, 0, 1],\n",
       "       [1, 1, 1, 1, 1]], dtype=int8)"
      ]
     },
     "execution_count": 30,
     "metadata": {},
     "output_type": "execute_result"
    }
   ],
   "source": [
    "a=np.zeros((5,5),dtype='int8')\n",
    "a[0:1,:]=1\n",
    "a[0:5,0:1]=1\n",
    "a[4:5,:]=1\n",
    "a[0:5,4:5]=1\n",
    "a"
   ]
  },
  {
   "cell_type": "code",
   "execution_count": 25,
   "id": "41811afc",
   "metadata": {},
   "outputs": [
    {
     "data": {
      "text/plain": [
       "array([[0., 0., 1., 0., 0.],\n",
       "       [0., 0., 0., 1., 0.],\n",
       "       [0., 0., 0., 0., 1.],\n",
       "       [0., 0., 0., 0., 0.],\n",
       "       [0., 0., 0., 0., 0.]])"
      ]
     },
     "execution_count": 25,
     "metadata": {},
     "output_type": "execute_result"
    }
   ],
   "source": [
    "a=np.eye(5,k=1)\n",
    "a=np.eye(5,k=2)\n",
    "a"
   ]
  },
  {
   "cell_type": "code",
   "execution_count": 17,
   "id": "e7b7134d",
   "metadata": {},
   "outputs": [
    {
     "name": "stdout",
     "output_type": "stream",
     "text": [
      "[[-3.   2. ]\n",
      " [ 2.5 -1.5]]\n"
     ]
    }
   ],
   "source": [
    "import numpy as geek  \n",
    "            \n",
    "mat = geek.matrix('[3, 4; 5, 6]')  \n",
    "            \n",
    "# applying matrix.getI() method  \n",
    "gfg = mat.getI()  \n",
    "      \n",
    "print(gfg) "
   ]
  },
  {
   "cell_type": "code",
   "execution_count": 39,
   "id": "e89743b4",
   "metadata": {},
   "outputs": [
    {
     "data": {
      "text/plain": [
       "array([[1., 0., 1., 0., 1., 0., 1., 0.],\n",
       "       [0., 1., 0., 1., 0., 1., 0., 1.],\n",
       "       [1., 0., 1., 0., 1., 0., 1., 0.],\n",
       "       [0., 1., 0., 1., 0., 1., 0., 1.],\n",
       "       [1., 0., 1., 0., 1., 0., 1., 0.],\n",
       "       [0., 1., 0., 1., 0., 1., 0., 1.],\n",
       "       [1., 0., 1., 0., 1., 0., 1., 0.],\n",
       "       [0., 1., 0., 1., 0., 1., 0., 1.]])"
      ]
     },
     "execution_count": 39,
     "metadata": {},
     "output_type": "execute_result"
    }
   ],
   "source": [
    "a=np.zeros((8,8))\n",
    "a[::2,::2]=1\n",
    "a[1::2,1::2]=1\n",
    "a"
   ]
  },
  {
   "cell_type": "code",
   "execution_count": 38,
   "id": "8e0dc6ec",
   "metadata": {},
   "outputs": [
    {
     "name": "stdout",
     "output_type": "stream",
     "text": [
      "15\n"
     ]
    }
   ],
   "source": [
    "a=np.array([1,2,3,4,5],dtype='int')\n",
    "print(a.sum())"
   ]
  },
  {
   "cell_type": "code",
   "execution_count": 59,
   "id": "e961e0ae",
   "metadata": {},
   "outputs": [
    {
     "name": "stdout",
     "output_type": "stream",
     "text": [
      "[52 76 59 59 22 47 91 58 41 94]   [65 95 11 49 74 88 13 36 83 52]\n",
      "[52]\n"
     ]
    }
   ],
   "source": [
    "a=np.array([random.randint(1,100) for i in range(10)])\n",
    "b=np.array([random.randint(1,100) for i in range(10)])\n",
    "print(a,\" \",b)\n",
    "print(np.intersect1d(a,b))"
   ]
  },
  {
   "cell_type": "code",
   "execution_count": 7,
   "id": "96f546a6",
   "metadata": {},
   "outputs": [
    {
     "data": {
      "text/plain": [
       "array([[0., 1., 0.],\n",
       "       [0., 0., 1.],\n",
       "       [0., 0., 0.]])"
      ]
     },
     "execution_count": 7,
     "metadata": {},
     "output_type": "execute_result"
    }
   ],
   "source": [
    "import numpy as np\n",
    "a=np.eye(3,k=1)\n",
    "a"
   ]
  },
  {
   "cell_type": "code",
   "execution_count": 62,
   "id": "ca67a728",
   "metadata": {},
   "outputs": [
    {
     "name": "stdout",
     "output_type": "stream",
     "text": [
      "[4 4 3 1 2 7 5 3 7 4 4 2 6 5 4 7 5 7 1 3]\n",
      "[1 2 3 4 5 6 7]\n"
     ]
    }
   ],
   "source": [
    "a=np.array([random.randint(1,7) for i in range(20)])\n",
    "print(a)\n",
    "print(np.unique(a))"
   ]
  },
  {
   "cell_type": "code",
   "execution_count": 77,
   "id": "d45a76f8",
   "metadata": {},
   "outputs": [
    {
     "data": {
      "text/plain": [
       "array([[31, 44, 67, 72, 86],\n",
       "       [31, 47, 62, 77, 81],\n",
       "       [17, 18, 67, 71, 73],\n",
       "       [41, 47, 55, 57, 96],\n",
       "       [16, 22, 46, 58, 93]])"
      ]
     },
     "execution_count": 77,
     "metadata": {},
     "output_type": "execute_result"
    }
   ],
   "source": [
    "a=np.array([[random.randint(1,100) for i in range(5)] for j in range(5)])\n",
    "a[::2,:].sort()\n",
    "a[1::2,:].sort()\n",
    "a"
   ]
  },
  {
   "cell_type": "code",
   "execution_count": 10,
   "id": "5eb4ede7",
   "metadata": {},
   "outputs": [
    {
     "name": "stdout",
     "output_type": "stream",
     "text": [
      "[['2' 'Afridi' '78']\n",
      " ['3' 'Bishal' '85']\n",
      " ['1' 'Saptarshi' '80']]\n",
      "[['2' 'Afridi' '78']\n",
      " ['1' 'Saptarshi' '80']\n",
      " ['3' 'Bishal' '85']]\n"
     ]
    }
   ],
   "source": [
    "#user defined data sort\n",
    "import numpy as np\n",
    "a=np.array([[1,'Saptarshi',80],[2,'Afridi',78],[3,'Bishal',85]])\n",
    "name = a[a[:, 1].argsort()]\n",
    "marks=a[a[:,2].argsort()]\n",
    "print(name)\n",
    "print(marks)"
   ]
  },
  {
   "cell_type": "code",
   "execution_count": 18,
   "id": "1f894d78",
   "metadata": {},
   "outputs": [
    {
     "name": "stdout",
     "output_type": "stream",
     "text": [
      "[(b'Amit',  5, 50) (b'Bishal',  3, 87) (b'Abhishak', 10, 33)]\n",
      "[(b'Bishal',  3, 87) (b'Amit',  5, 50) (b'Abhishak', 10, 33)]\n"
     ]
    }
   ],
   "source": [
    "#user defined data sort\n",
    "import numpy as np\n",
    "dt=[('Name','S15'),('Roll','int'),('Marks','int')]\n",
    "student=[('Amit',5,50),('Bishal',3,87),('Abhishak',10,33)]\n",
    "x=np.array(student,dtype=dt)\n",
    "print(x)\n",
    "print(np.sort(x,order='Roll'))"
   ]
  },
  {
   "cell_type": "code",
   "execution_count": 32,
   "id": "78f9beb5",
   "metadata": {},
   "outputs": [
    {
     "name": "stdout",
     "output_type": "stream",
     "text": [
      "[[53 38 94 92 70]\n",
      " [99 30 16 37 73]\n",
      " [50 89 34 38 62]\n",
      " [59 16 16 64 78]\n",
      " [78 46 37 57 12]]\n",
      "69.4\n",
      "51.0\n",
      "67.8\n",
      "43.8\n",
      "[67.8 43.8 39.4 57.6 59. ]\n",
      "[69.4 51.  54.6 46.6 46. ]\n"
     ]
    }
   ],
   "source": [
    "#mean by each row and column\n",
    "import random\n",
    "a=np.array([[random.randint(1,100) for i in range(5)]for i in range(5)])\n",
    "print(a)\n",
    "#row\n",
    "print(np.mean(a[0:1,:]))\n",
    "print(np.mean(a[1:2,:]))\n",
    "#column\n",
    "print(np.mean(a[:,0:1]))\n",
    "print(np.mean(a[:,1:2]))\n",
    "\n",
    "\n",
    "print(np.mean(a,axis=0))\n",
    "print(np.mean(a,axis=1))"
   ]
  },
  {
   "cell_type": "code",
   "execution_count": 38,
   "id": "2b83b257",
   "metadata": {},
   "outputs": [
    {
     "name": "stdout",
     "output_type": "stream",
     "text": [
      "[[53 38 94 92 70]\n",
      " [99 30 16 37 73]\n",
      " [50 89 34 38 62]\n",
      " [59 16 16 64 78]\n",
      " [78 46 37 57 12]]\n",
      "[[53 38 94 92 70]\n",
      " [99 30 16 37 73]\n",
      " [50 89 34 38 62]\n",
      " [59 16 16 64 78]\n",
      " [78 46 37 57 12]]\n"
     ]
    }
   ],
   "source": [
    "#finding 2nd largest number in each row and column\n",
    "print(a)\n",
    "# print(np.partition(a, -2, axis=0)[:, -2])\n",
    "# print(np.partition(a, -2, axis=1)[:, -2])\n",
    "# print(np.partition(a, -2, axis=1)[:, -3])\n",
    "np.sort(a,axis=0)\n",
    "print(a)"
   ]
  },
  {
   "cell_type": "code",
   "execution_count": 58,
   "id": "d7d3b0bf",
   "metadata": {},
   "outputs": [
    {
     "name": "stdout",
     "output_type": "stream",
     "text": [
      "[[ 4 15 12  1  2 11]\n",
      " [14  8  9  5 14  6]]\n",
      "[[ 4 15 12]\n",
      " [14  8  9]\n",
      " [ 1  2 11]\n",
      " [ 5 14  6]]\n"
     ]
    }
   ],
   "source": [
    "a=np.array([[random.randint (1,15) for i in range(3)] for i in range(2)])\n",
    "b=np.array([[random.randint (1,15) for i in range(3)] for i in range(2)])\n",
    "print(np.hstack((a,b)))\n",
    "print(np.vstack((a,b)))"
   ]
  },
  {
   "cell_type": "code",
   "execution_count": 51,
   "id": "86af1db5",
   "metadata": {},
   "outputs": [
    {
     "name": "stdout",
     "output_type": "stream",
     "text": [
      "[-18 -17  43  43 -35 -17 -32]\n",
      "[-27.77777778 -27.22222222   6.11111111   6.11111111 -37.22222222\n",
      " -27.22222222 -35.55555556]\n",
      "╒══════════╤══════════╤══════════╤══════════╤══════════╤══════════╤══════════╕\n",
      "│ -18      │ -17      │ 43       │ 43       │ -35      │ -17      │ -32      │\n",
      "├──────────┼──────────┼──────────┼──────────┼──────────┼──────────┼──────────┤\n",
      "│ -27.7778 │ -27.2222 │  6.11111 │  6.11111 │ -37.2222 │ -27.2222 │ -35.5556 │\n",
      "╘══════════╧══════════╧══════════╧══════════╧══════════╧══════════╧══════════╛\n"
     ]
    }
   ],
   "source": [
    "#convert into farenhite\n",
    "from tabulate import tabulate\n",
    "a=np.array([random.randint(-50,50) for i in range(7)])\n",
    "farenhite = lambda x: 5*(x-32)/9\n",
    "print(a)\n",
    "print(farenhite(a))\n",
    "l=[]\n",
    "l.append(a)\n",
    "l.append(farenhite(a))\n",
    "print(tabulate(l,tablefmt='fancy_grid'))"
   ]
  },
  {
   "cell_type": "code",
   "execution_count": 15,
   "id": "2d0d69ab",
   "metadata": {},
   "outputs": [
    {
     "name": "stdout",
     "output_type": "stream",
     "text": [
      "['2023-12-01' '2023-12-02' '2023-12-03' '2023-12-04' '2023-12-05'\n",
      " '2023-12-06' '2023-12-07' '2023-12-08' '2023-12-09' '2023-12-10'\n",
      " '2023-12-11' '2023-12-12' '2023-12-13' '2023-12-14' '2023-12-15'\n",
      " '2023-12-16' '2023-12-17' '2023-12-18' '2023-12-19' '2023-12-20'\n",
      " '2023-12-21' '2023-12-22' '2023-12-23' '2023-12-24' '2023-12-25'\n",
      " '2023-12-26' '2023-12-27' '2023-12-28' '2023-12-29' '2023-12-30'\n",
      " '2023-12-31']\n",
      "2023-12-06\n",
      "2023-12-07\n",
      "2023-12-08\n"
     ]
    },
    {
     "ename": "AttributeError",
     "evalue": "module 'numpy' has no attribute 'count'",
     "output_type": "error",
     "traceback": [
      "\u001b[1;31m---------------------------------------------------------------------------\u001b[0m",
      "\u001b[1;31mAttributeError\u001b[0m                            Traceback (most recent call last)",
      "\u001b[1;32m~\\AppData\\Local\\Temp\\ipykernel_4104\\949477382.py\u001b[0m in \u001b[0;36m<module>\u001b[1;34m\u001b[0m\n\u001b[0;32m     11\u001b[0m \u001b[0mprint\u001b[0m\u001b[1;33m(\u001b[0m\u001b[0mtoday_date\u001b[0m\u001b[1;33m)\u001b[0m\u001b[1;33m\u001b[0m\u001b[1;33m\u001b[0m\u001b[0m\n\u001b[0;32m     12\u001b[0m \u001b[0mprint\u001b[0m\u001b[1;33m(\u001b[0m\u001b[0mtomorrow\u001b[0m\u001b[1;33m)\u001b[0m\u001b[1;33m\u001b[0m\u001b[1;33m\u001b[0m\u001b[0m\n\u001b[1;32m---> 13\u001b[1;33m \u001b[0mdays\u001b[0m\u001b[1;33m=\u001b[0m\u001b[0mnp\u001b[0m\u001b[1;33m.\u001b[0m\u001b[0mcount\u001b[0m\u001b[1;33m(\u001b[0m\u001b[1;34m'2023-01-01'\u001b[0m\u001b[1;33m,\u001b[0m\u001b[1;34m'2023-01-31'\u001b[0m\u001b[1;33m,\u001b[0m\u001b[0mdtype\u001b[0m\u001b[1;33m=\u001b[0m\u001b[1;34m'datetime64[D]'\u001b[0m\u001b[1;33m)\u001b[0m\u001b[1;33m\u001b[0m\u001b[1;33m\u001b[0m\u001b[0m\n\u001b[0m\u001b[0;32m     14\u001b[0m \u001b[0mprint\u001b[0m\u001b[1;33m(\u001b[0m\u001b[0mdays\u001b[0m\u001b[1;33m)\u001b[0m\u001b[1;33m\u001b[0m\u001b[1;33m\u001b[0m\u001b[0m\n\u001b[0;32m     15\u001b[0m \u001b[0mprint\u001b[0m\u001b[1;33m(\u001b[0m\u001b[0ms\u001b[0m\u001b[1;33m)\u001b[0m\u001b[1;33m\u001b[0m\u001b[1;33m\u001b[0m\u001b[0m\n",
      "\u001b[1;32m~\\anaconda3\\lib\\site-packages\\numpy\\__init__.py\u001b[0m in \u001b[0;36m__getattr__\u001b[1;34m(attr)\u001b[0m\n\u001b[0;32m    311\u001b[0m                 \u001b[1;32mreturn\u001b[0m \u001b[0mTester\u001b[0m\u001b[1;33m\u001b[0m\u001b[1;33m\u001b[0m\u001b[0m\n\u001b[0;32m    312\u001b[0m \u001b[1;33m\u001b[0m\u001b[0m\n\u001b[1;32m--> 313\u001b[1;33m             raise AttributeError(\"module {!r} has no attribute \"\n\u001b[0m\u001b[0;32m    314\u001b[0m                                  \"{!r}\".format(__name__, attr))\n\u001b[0;32m    315\u001b[0m \u001b[1;33m\u001b[0m\u001b[0m\n",
      "\u001b[1;31mAttributeError\u001b[0m: module 'numpy' has no attribute 'count'"
     ]
    }
   ],
   "source": [
    "#display all the date for the month of 2023\n",
    "#get the date of yesterday today and tomorrow\n",
    "#count no of days of a specific month \n",
    "import numpy as np\n",
    "d=np.arange('2023-12-01','2024-01-01',dtype='datetime64[D]')\n",
    "print(d)\n",
    "today_date=np.datetime64('today','D')\n",
    "yestarday=np.datetime64('today','D')-np.timedelta64(1,'D')\n",
    "tomorrow=np.datetime64('today','D')+np.timedelta64(1,'D')\n",
    "print(yestarday)\n",
    "print(today_date)\n",
    "print(tomorrow)\n",
    "days=np.datetime64('2023-01-01')-np.datetime\n",
    "print(days)\n",
    "print(s)"
   ]
  }
 ],
 "metadata": {
  "kernelspec": {
   "display_name": "Python 3 (ipykernel)",
   "language": "python",
   "name": "python3"
  },
  "language_info": {
   "codemirror_mode": {
    "name": "ipython",
    "version": 3
   },
   "file_extension": ".py",
   "mimetype": "text/x-python",
   "name": "python",
   "nbconvert_exporter": "python",
   "pygments_lexer": "ipython3",
   "version": "3.9.13"
  }
 },
 "nbformat": 4,
 "nbformat_minor": 5
}
