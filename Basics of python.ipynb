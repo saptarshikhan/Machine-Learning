{
 "cells": [
  {
   "cell_type": "code",
   "execution_count": 2,
   "id": "db35dbbf",
   "metadata": {},
   "outputs": [
    {
     "name": "stdout",
     "output_type": "stream",
     "text": [
      "Enter the number12\n",
      "Enter the power0.5\n",
      "3.4641016151377544\n"
     ]
    }
   ],
   "source": [
    "n=int(input(\"Enter the number\"))\n",
    "x=float(input(\"Enter the power\"))\n",
    "c=pow(n,x)\n",
    "print(c)"
   ]
  },
  {
   "cell_type": "code",
   "execution_count": 10,
   "id": "cffb418e",
   "metadata": {},
   "outputs": [
    {
     "name": "stdout",
     "output_type": "stream",
     "text": [
      "Enter first number10\n",
      "Enter second number20\n",
      "30\n"
     ]
    }
   ],
   "source": [
    "a=eval(input(\"Enter first number\"))\n",
    "b=eval(input(\"Enter second number\"))\n",
    "print(a+b)"
   ]
  },
  {
   "cell_type": "code",
   "execution_count": 11,
   "id": "0cecf0f1",
   "metadata": {},
   "outputs": [
    {
     "name": "stdout",
     "output_type": "stream",
     "text": [
      "Enter the principal amount1000\n",
      "Enter the rate of interest2.5\n",
      "Enter the number of increments per time period2\n",
      "Enter the time period3\n",
      "129746.337890625\n"
     ]
    }
   ],
   "source": [
    "p=eval(input(\"Enter the principal amount\"))\n",
    "r=eval(input(\"Enter the rate of interest\"))\n",
    "n=eval(input(\"Enter the number of increments per time period\"))\n",
    "t=eval(input(\"Enter the time period\"))\n",
    "ci=p*pow(1+r/n,n*t)\n",
    "print(ci)"
   ]
  },
  {
   "cell_type": "code",
   "execution_count": 21,
   "id": "49fa5fb4",
   "metadata": {},
   "outputs": [
    {
     "name": "stdout",
     "output_type": "stream",
     "text": [
      "Enter the number36\n",
      "6\n",
      "36.0\n",
      "It is a perfect square\n"
     ]
    }
   ],
   "source": [
    "import math\n",
    "n=int(input(\"Enter the number\"))\n",
    "c=int(math.sqrt(n))\n",
    "print(c)\n",
    "d=pow(math.sqrt(n),2)\n",
    "print(d)\n",
    "if c*c==pow(math.sqrt(n),2) :\n",
    "    print(\"It is a perfect square\")\n",
    "else :\n",
    "    print(\"It is not a perfect square\")"
   ]
  },
  {
   "cell_type": "code",
   "execution_count": 26,
   "id": "494357f5",
   "metadata": {},
   "outputs": [
    {
     "name": "stdout",
     "output_type": "stream",
     "text": [
      "Enter the number27\n",
      "3.0\n"
     ]
    }
   ],
   "source": [
    "n=int(input(\"Enter the number\"))\n",
    "if n%2==0:\n",
    "    print(math.sqrt(n))\n",
    "else:\n",
    "    print(n**(1/3))"
   ]
  },
  {
   "cell_type": "code",
   "execution_count": 1,
   "id": "2880ec2e",
   "metadata": {},
   "outputs": [
    {
     "name": "stdout",
     "output_type": "stream",
     "text": [
      "Enter the number123\n",
      "6\n"
     ]
    }
   ],
   "source": [
    "n=int(input(\"Enter the number\"))\n",
    "sum=0\n",
    "while n!=0:\n",
    "    sum+=n%10;\n",
    "    n=n//10\n",
    "print(sum)"
   ]
  },
  {
   "cell_type": "code",
   "execution_count": 1,
   "id": "f87be3c2",
   "metadata": {},
   "outputs": [
    {
     "name": "stdout",
     "output_type": "stream",
     "text": [
      "Enter the numbner123\n",
      "2\n"
     ]
    }
   ],
   "source": [
    "n=int(input(\"Enter the numbner\"))\n",
    "s=n\n",
    "a=0\n",
    "while n!=0:\n",
    "    if a<n%10:\n",
    "        a=n%10\n",
    "    n=n//10\n",
    "m=0\n",
    "while s!=0:\n",
    "    b=s%10\n",
    "    if a!=b:\n",
    "        if m<b:\n",
    "            m=b\n",
    "    s=s//10\n",
    "print(m)"
   ]
  },
  {
   "cell_type": "code",
   "execution_count": 3,
   "id": "c8ffe42f",
   "metadata": {},
   "outputs": [
    {
     "name": "stdout",
     "output_type": "stream",
     "text": [
      "Enter the number123\n",
      "well formed\n"
     ]
    }
   ],
   "source": [
    "#well formed\n",
    "n=int(input(\"Enter the number\"))\n",
    "l=[]\n",
    "while n!=0:\n",
    "    l.append(n%10)\n",
    "    n=n//10\n",
    "flag=1\n",
    "for i in range (0,len(l)-2):\n",
    "    if l[i]<l[i+1]:\n",
    "        flag=0\n",
    "x=1\n",
    "# for i in range (0,len(l)-2) :\n",
    "#     if l[i]>l[i+1]:\n",
    "#         x=0\n",
    "        \n",
    "if flag==1:\n",
    "    print(\"well formed\")\n",
    "else:\n",
    "    print(\"Not well formed\")"
   ]
  },
  {
   "cell_type": "code",
   "execution_count": 7,
   "id": "bca81929",
   "metadata": {},
   "outputs": [
    {
     "name": "stdout",
     "output_type": "stream",
     "text": [
      "65\n",
      "65.125\n"
     ]
    }
   ],
   "source": [
    "#binary to decimal\n",
    "n=1000001.001\n",
    "ans=0\n",
    "s=str(n)\n",
    "x=s.split('.')\n",
    "w=int(x[0])\n",
    "d=int(x[1])\n",
    "i=0\n",
    "while w!=0:\n",
    "    ans=ans+w%10*pow(2,i)\n",
    "    i+=1\n",
    "    w=w//10\n",
    "print(ans)\n",
    "i=len(x[1])\n",
    "frac=0\n",
    "while d!=0 and i>0:\n",
    "    frac+=d%10*pow(2,-i)\n",
    "    i-=1\n",
    "    d=d//10\n",
    "res=ans+(frac)\n",
    "print(res)"
   ]
  },
  {
   "cell_type": "code",
   "execution_count": 8,
   "id": "774aa568",
   "metadata": {},
   "outputs": [
    {
     "name": "stdout",
     "output_type": "stream",
     "text": [
      "30\n"
     ]
    }
   ],
   "source": [
    "def sum(a,b):\n",
    "    c=a+b\n",
    "    return c\n",
    "a,b=10,20\n",
    "c=sum(a,b)\n",
    "print(c)"
   ]
  },
  {
   "cell_type": "code",
   "execution_count": 14,
   "id": "6978873b",
   "metadata": {},
   "outputs": [
    {
     "name": "stdout",
     "output_type": "stream",
     "text": [
      "Enter the number3\n",
      "True\n"
     ]
    }
   ],
   "source": [
    "import math\n",
    "def prime(n):\n",
    "    for i in range(2,int(math.sqrt(n))+1):\n",
    "        if n%i==0:\n",
    "            return False\n",
    "    return True\n",
    "n=int(input(\"Enter the number\"))\n",
    "print(prime(n))"
   ]
  },
  {
   "cell_type": "code",
   "execution_count": 24,
   "id": "062ce792",
   "metadata": {},
   "outputs": [
    {
     "name": "stdout",
     "output_type": "stream",
     "text": [
      "[2, 3, 5, 7, 11, 13, 17, 19, 23, 29, 31, 37, 41, 43, 47, 53, 59, 61, 67, 71, 73, 79, 83, 89, 97, 101, 103, 107, 109, 113, 127, 131, 137, 139, 149, 151, 157, 163, 167, 173, 179, 181, 191, 193, 197, 199, 211, 223, 227, 229, 233, 239, 241, 251, 257, 263, 269, 271, 277, 281, 283, 293, 307, 311, 313, 317, 331, 337, 347, 349, 353, 359, 367, 373, 379, 383, 389, 397, 401, 409, 419, 421, 431, 433, 439, 443, 449, 457, 461, 463, 467, 479, 487, 491, 499, 503, 509, 521, 523, 541, 547]\n"
     ]
    }
   ],
   "source": [
    "n=100\n",
    "x=2\n",
    "y=0\n",
    "l=[]\n",
    "while y<=n:\n",
    "    if prime(x):\n",
    "        y+=1\n",
    "        l.append(x)\n",
    "    x+=1    \n",
    "print(l)"
   ]
  },
  {
   "cell_type": "code",
   "execution_count": 28,
   "id": "9c3b70e9",
   "metadata": {},
   "outputs": [
    {
     "name": "stdout",
     "output_type": "stream",
     "text": [
      "[10, 20, -10, -5]\n"
     ]
    }
   ],
   "source": [
    "l=[10,-10,20,-5]\n",
    "p=[]\n",
    "n=[]\n",
    "for i in l:\n",
    "    if i<0:\n",
    "        n.append(i)\n",
    "    else:\n",
    "        p.append(i)\n",
    "l=p+n\n",
    "print(l)"
   ]
  },
  {
   "cell_type": "code",
   "execution_count": 29,
   "id": "b1343245",
   "metadata": {},
   "outputs": [
    {
     "name": "stdout",
     "output_type": "stream",
     "text": [
      "[29, 53, 7, 20, 1, 39, 28, 85, 1, 29, 33, 20, 92, 85, 8, 37, 87, 97, 70, 39]\n"
     ]
    }
   ],
   "source": [
    "import random\n",
    "l=[random.randint(1,100) for i in range (20)]\n",
    "print(l)"
   ]
  },
  {
   "cell_type": "code",
   "execution_count": 31,
   "id": "3bb5ad5f",
   "metadata": {},
   "outputs": [
    {
     "name": "stdout",
     "output_type": "stream",
     "text": [
      "[2, 4, 6, 8, 10, 12, 14, 16, 18, 20, 22, 24, 26, 28, 30, 32, 34, 36, 38, 40, 42, 44, 46, 48, 50, 52, 54, 56, 58, 60, 62, 64, 66, 68, 70, 72, 74, 76, 78, 80, 82, 84, 86, 88, 90, 92, 94, 96, 98, 100]\n"
     ]
    }
   ],
   "source": [
    "l=[i for i in range(1,101) if i%2==0]\n",
    "print(l)"
   ]
  },
  {
   "cell_type": "code",
   "execution_count": 35,
   "id": "07aaf277",
   "metadata": {},
   "outputs": [
    {
     "name": "stdout",
     "output_type": "stream",
     "text": [
      "[[77, 66, 82, 73, 99], [67, 79, 89, 27, 21], [60, 88, 36, 66, 32], [16, 76, 33, 31, 2], [87, 15, 99, 26, 95]]\n",
      "77  66  82  73  99  \n"
     ]
    }
   ],
   "source": [
    "l=[[random.randint(1,100) for i in range (5)] for j in range (5)]\n",
    "print(l)\n",
    "mx=0\n",
    "y=0\n",
    "for i in range (5):\n",
    "    sum=0\n",
    "    for j in range(5):\n",
    "        sum+=l[i][j]\n",
    "    if sum>mx:\n",
    "        mx=sum\n",
    "        y=i\n",
    "for i in range (5):\n",
    "    print(l[y][i],\" \",end='')\n",
    "print()\n",
    "    "
   ]
  },
  {
   "cell_type": "code",
   "execution_count": 41,
   "id": "78f4bd96",
   "metadata": {},
   "outputs": [
    {
     "name": "stdout",
     "output_type": "stream",
     "text": [
      "35   2   37   1   7   46\n"
     ]
    }
   ],
   "source": [
    "s=\"Python is a high level Programming language <3\"\n",
    "lower=0\n",
    "upper=0\n",
    "alphabet=0\n",
    "digit=0\n",
    "space=0\n",
    "for i in s:\n",
    "    if i.isupper():\n",
    "        upper+=1\n",
    "    if  i.islower():\n",
    "        lower+=1\n",
    "    if i.isalpha():\n",
    "        alphabet+=1\n",
    "    if i.isdigit():\n",
    "        digit+=1\n",
    "    if i==' ':\n",
    "        space+=1\n",
    "print(lower,\" \",upper,\" \",alphabet,\" \",digit,\" \",space,\" \",len(s))"
   ]
  },
  {
   "cell_type": "code",
   "execution_count": 47,
   "id": "fff50b45",
   "metadata": {},
   "outputs": [
    {
     "name": "stdout",
     "output_type": "stream",
     "text": [
      "Enter the string: saptarshi khan\n",
      "ptri kn\n"
     ]
    }
   ],
   "source": [
    "a=input(\"Enter the string: \")\n",
    "freq={}\n",
    "for i in a:\n",
    "    if i!=' ':\n",
    "        if i in freq:\n",
    "            freq[i]+=1\n",
    "        else :\n",
    "            freq[i]=1\n",
    "for i in a:\n",
    "    if i in freq and freq[i]!=1:\n",
    "        a=a.replace(i,\"\")\n",
    "        freq[i]-=1\n",
    "print(a)"
   ]
  },
  {
   "cell_type": "code",
   "execution_count": 17,
   "id": "dd84a506",
   "metadata": {},
   "outputs": [
    {
     "name": "stdout",
     "output_type": "stream",
     "text": [
      "╒════════╤═══════════╤══════════╤══════════╤══════════════╕\n",
      "│   SlNo │ Word      │   Length │   Vowels │   Consonents │\n",
      "╞════════╪═══════════╪══════════╪══════════╪══════════════╡\n",
      "│      1 │ Video     │        5 │        3 │            2 │\n",
      "├────────┼───────────┼──────────┼──────────┼──────────────┤\n",
      "│      2 │ provides  │        8 │        3 │            5 │\n",
      "├────────┼───────────┼──────────┼──────────┼──────────────┤\n",
      "│      3 │ a         │        1 │        1 │            0 │\n",
      "├────────┼───────────┼──────────┼──────────┼──────────────┤\n",
      "│      4 │ powerful  │        8 │        3 │            5 │\n",
      "├────────┼───────────┼──────────┼──────────┼──────────────┤\n",
      "│      5 │ way       │        3 │        1 │            2 │\n",
      "├────────┼───────────┼──────────┼──────────┼──────────────┤\n",
      "│      6 │ to        │        2 │        1 │            1 │\n",
      "├────────┼───────────┼──────────┼──────────┼──────────────┤\n",
      "│      7 │ help      │        4 │        1 │            3 │\n",
      "├────────┼───────────┼──────────┼──────────┼──────────────┤\n",
      "│      8 │ you       │        3 │        2 │            1 │\n",
      "├────────┼───────────┼──────────┼──────────┼──────────────┤\n",
      "│      9 │ prove     │        5 │        2 │            3 │\n",
      "├────────┼───────────┼──────────┼──────────┼──────────────┤\n",
      "│     10 │ your      │        4 │        2 │            2 │\n",
      "├────────┼───────────┼──────────┼──────────┼──────────────┤\n",
      "│     11 │ point.    │        6 │        2 │            4 │\n",
      "├────────┼───────────┼──────────┼──────────┼──────────────┤\n",
      "│     12 │ When      │        4 │        1 │            3 │\n",
      "├────────┼───────────┼──────────┼──────────┼──────────────┤\n",
      "│     13 │ you       │        3 │        2 │            1 │\n",
      "├────────┼───────────┼──────────┼──────────┼──────────────┤\n",
      "│     14 │ click     │        5 │        1 │            4 │\n",
      "├────────┼───────────┼──────────┼──────────┼──────────────┤\n",
      "│     15 │ Online    │        6 │        2 │            4 │\n",
      "├────────┼───────────┼──────────┼──────────┼──────────────┤\n",
      "│     16 │ Video,    │        6 │        3 │            3 │\n",
      "├────────┼───────────┼──────────┼──────────┼──────────────┤\n",
      "│     17 │ you       │        3 │        2 │            1 │\n",
      "├────────┼───────────┼──────────┼──────────┼──────────────┤\n",
      "│     18 │ can       │        3 │        1 │            2 │\n",
      "├────────┼───────────┼──────────┼──────────┼──────────────┤\n",
      "│     19 │ paste     │        5 │        2 │            3 │\n",
      "├────────┼───────────┼──────────┼──────────┼──────────────┤\n",
      "│     20 │ in        │        2 │        1 │            1 │\n",
      "├────────┼───────────┼──────────┼──────────┼──────────────┤\n",
      "│     21 │ the       │        3 │        1 │            2 │\n",
      "├────────┼───────────┼──────────┼──────────┼──────────────┤\n",
      "│     22 │ embed     │        5 │        2 │            3 │\n",
      "├────────┼───────────┼──────────┼──────────┼──────────────┤\n",
      "│     23 │ code      │        4 │        2 │            2 │\n",
      "├────────┼───────────┼──────────┼──────────┼──────────────┤\n",
      "│     24 │ for       │        3 │        1 │            2 │\n",
      "├────────┼───────────┼──────────┼──────────┼──────────────┤\n",
      "│     25 │ the       │        3 │        1 │            2 │\n",
      "├────────┼───────────┼──────────┼──────────┼──────────────┤\n",
      "│     26 │ video     │        5 │        3 │            2 │\n",
      "├────────┼───────────┼──────────┼──────────┼──────────────┤\n",
      "│     27 │ you       │        3 │        2 │            1 │\n",
      "├────────┼───────────┼──────────┼──────────┼──────────────┤\n",
      "│     28 │ want      │        4 │        1 │            3 │\n",
      "├────────┼───────────┼──────────┼──────────┼──────────────┤\n",
      "│     29 │ to        │        2 │        1 │            1 │\n",
      "├────────┼───────────┼──────────┼──────────┼──────────────┤\n",
      "│     30 │ add.      │        4 │        1 │            3 │\n",
      "├────────┼───────────┼──────────┼──────────┼──────────────┤\n",
      "│     31 │ You       │        3 │        2 │            1 │\n",
      "├────────┼───────────┼──────────┼──────────┼──────────────┤\n",
      "│     32 │ can       │        3 │        1 │            2 │\n",
      "├────────┼───────────┼──────────┼──────────┼──────────────┤\n",
      "│     33 │ also      │        4 │        2 │            2 │\n",
      "├────────┼───────────┼──────────┼──────────┼──────────────┤\n",
      "│     34 │ type      │        4 │        1 │            3 │\n",
      "├────────┼───────────┼──────────┼──────────┼──────────────┤\n",
      "│     35 │ a         │        1 │        1 │            0 │\n",
      "├────────┼───────────┼──────────┼──────────┼──────────────┤\n",
      "│     36 │ keyword   │        7 │        2 │            5 │\n",
      "├────────┼───────────┼──────────┼──────────┼──────────────┤\n",
      "│     37 │ to        │        2 │        1 │            1 │\n",
      "├────────┼───────────┼──────────┼──────────┼──────────────┤\n",
      "│     38 │ search    │        6 │        2 │            4 │\n",
      "├────────┼───────────┼──────────┼──────────┼──────────────┤\n",
      "│     39 │ online    │        6 │        3 │            3 │\n",
      "├────────┼───────────┼──────────┼──────────┼──────────────┤\n",
      "│     40 │ for       │        3 │        1 │            2 │\n",
      "├────────┼───────────┼──────────┼──────────┼──────────────┤\n",
      "│     41 │ the       │        3 │        1 │            2 │\n",
      "├────────┼───────────┼──────────┼──────────┼──────────────┤\n",
      "│     42 │ video     │        5 │        3 │            2 │\n",
      "├────────┼───────────┼──────────┼──────────┼──────────────┤\n",
      "│     43 │ that      │        4 │        1 │            3 │\n",
      "├────────┼───────────┼──────────┼──────────┼──────────────┤\n",
      "│     44 │ best      │        4 │        1 │            3 │\n",
      "├────────┼───────────┼──────────┼──────────┼──────────────┤\n",
      "│     45 │ fits      │        4 │        1 │            3 │\n",
      "├────────┼───────────┼──────────┼──────────┼──────────────┤\n",
      "│     46 │ your      │        4 │        2 │            2 │\n",
      "├────────┼───────────┼──────────┼──────────┼──────────────┤\n",
      "│     47 │ document. │        9 │        3 │            6 │\n",
      "╘════════╧═══════════╧══════════╧══════════╧══════════════╛\n"
     ]
    }
   ],
   "source": [
    "from tabulate import tabulate\n",
    "f=open('d:\\\\DataSet\\\\para.txt')\n",
    "s=f.read()\n",
    "f.close()\n",
    "l=s.split()\n",
    "a=[['SlNo','Word','Length','Vowels','Consonents']]\n",
    "j=1\n",
    "for i in  l:\n",
    "    x=[]\n",
    "    x.append(j)\n",
    "    x.append(i)\n",
    "    x.append(len(i))\n",
    "    v=c=0\n",
    "    for k in i:\n",
    "        if k=='a' or k=='e' or k=='i' or k=='o' or k=='u' :\n",
    "            v+=1\n",
    "        else:\n",
    "            c+=1\n",
    "    x.append(v)\n",
    "    x.append(c)\n",
    "    j+=1\n",
    "    a.append(x)\n",
    "print(tabulate(a,tablefmt=\"fancy_grid\",headers='firstrow'))\n",
    "\n",
    "    \n"
   ]
  },
  {
   "cell_type": "code",
   "execution_count": null,
   "id": "5f31145d",
   "metadata": {},
   "outputs": [],
   "source": [
    "n=int(input(\"Enter the number\"))\n",
    "l=[]\n",
    "i=1;\n",
    "while i<=n*n:\n",
    "    if i%n==0:\n",
    "        x=[]\n",
    "    else :\n",
    "        "
   ]
  },
  {
   "cell_type": "code",
   "execution_count": 35,
   "id": "23467627",
   "metadata": {},
   "outputs": [
    {
     "name": "stdout",
     "output_type": "stream",
     "text": [
      "{'Video': 1, 'provides': 1, 'a': 2, 'powerful': 1, 'way': 1, 'to': 3, 'help': 1, 'you': 4, 'prove': 1, 'your': 2, 'point.': 1, 'When': 1, 'click': 1, 'Online': 1, 'Video,': 1, 'can': 2, 'paste': 1, 'in': 1, 'the': 3, 'embed': 1, 'code': 1, 'for': 2, 'video': 2, 'want': 1, 'add.': 1, 'You': 1, 'also': 1, 'type': 1, 'keyword': 1, 'search': 1, 'online': 1, 'that': 1, 'best': 1, 'fits': 1, 'document.': 1}\n",
      "╒══════════╤═══════════╤═════════════╕\n",
      "│   SlNo., │ Word      │   Frequency │\n",
      "╞══════════╪═══════════╪═════════════╡\n",
      "│        1 │ Video     │           1 │\n",
      "├──────────┼───────────┼─────────────┤\n",
      "│        2 │ provides  │           1 │\n",
      "├──────────┼───────────┼─────────────┤\n",
      "│        3 │ a         │           2 │\n",
      "├──────────┼───────────┼─────────────┤\n",
      "│        4 │ powerful  │           1 │\n",
      "├──────────┼───────────┼─────────────┤\n",
      "│        5 │ way       │           1 │\n",
      "├──────────┼───────────┼─────────────┤\n",
      "│        6 │ to        │           3 │\n",
      "├──────────┼───────────┼─────────────┤\n",
      "│        7 │ help      │           1 │\n",
      "├──────────┼───────────┼─────────────┤\n",
      "│        8 │ you       │           4 │\n",
      "├──────────┼───────────┼─────────────┤\n",
      "│        9 │ prove     │           1 │\n",
      "├──────────┼───────────┼─────────────┤\n",
      "│       10 │ your      │           2 │\n",
      "├──────────┼───────────┼─────────────┤\n",
      "│       11 │ point.    │           1 │\n",
      "├──────────┼───────────┼─────────────┤\n",
      "│       12 │ When      │           1 │\n",
      "├──────────┼───────────┼─────────────┤\n",
      "│       13 │ click     │           1 │\n",
      "├──────────┼───────────┼─────────────┤\n",
      "│       14 │ Online    │           1 │\n",
      "├──────────┼───────────┼─────────────┤\n",
      "│       15 │ Video,    │           1 │\n",
      "├──────────┼───────────┼─────────────┤\n",
      "│       16 │ can       │           2 │\n",
      "├──────────┼───────────┼─────────────┤\n",
      "│       17 │ paste     │           1 │\n",
      "├──────────┼───────────┼─────────────┤\n",
      "│       18 │ in        │           1 │\n",
      "├──────────┼───────────┼─────────────┤\n",
      "│       19 │ the       │           3 │\n",
      "├──────────┼───────────┼─────────────┤\n",
      "│       20 │ embed     │           1 │\n",
      "├──────────┼───────────┼─────────────┤\n",
      "│       21 │ code      │           1 │\n",
      "├──────────┼───────────┼─────────────┤\n",
      "│       22 │ for       │           2 │\n",
      "├──────────┼───────────┼─────────────┤\n",
      "│       23 │ video     │           2 │\n",
      "├──────────┼───────────┼─────────────┤\n",
      "│       24 │ want      │           1 │\n",
      "├──────────┼───────────┼─────────────┤\n",
      "│       25 │ add.      │           1 │\n",
      "├──────────┼───────────┼─────────────┤\n",
      "│       26 │ You       │           1 │\n",
      "├──────────┼───────────┼─────────────┤\n",
      "│       27 │ also      │           1 │\n",
      "├──────────┼───────────┼─────────────┤\n",
      "│       28 │ type      │           1 │\n",
      "├──────────┼───────────┼─────────────┤\n",
      "│       29 │ keyword   │           1 │\n",
      "├──────────┼───────────┼─────────────┤\n",
      "│       30 │ search    │           1 │\n",
      "├──────────┼───────────┼─────────────┤\n",
      "│       31 │ online    │           1 │\n",
      "├──────────┼───────────┼─────────────┤\n",
      "│       32 │ that      │           1 │\n",
      "├──────────┼───────────┼─────────────┤\n",
      "│       33 │ best      │           1 │\n",
      "├──────────┼───────────┼─────────────┤\n",
      "│       34 │ fits      │           1 │\n",
      "├──────────┼───────────┼─────────────┤\n",
      "│       35 │ document. │           1 │\n",
      "╘══════════╧═══════════╧═════════════╛\n"
     ]
    }
   ],
   "source": [
    "d={}\n",
    "for i in l:\n",
    "    if i in d:\n",
    "        d[i]+=1\n",
    "    else:\n",
    "         d[i]=1\n",
    "print(d)\n",
    "x=[[\"SlNo.,\",\"Word\",\"Frequency\"]]\n",
    "j=1\n",
    "for i in d:\n",
    "    y=[]\n",
    "    y.append(j)\n",
    "    j+=1\n",
    "    y.append(i)\n",
    "    y.append(d[i])\n",
    "    x.append(y)\n",
    "\n",
    "print(tabulate(x,tablefmt=\"fancy_grid\",headers='firstrow'))"
   ]
  },
  {
   "cell_type": "code",
   "execution_count": 34,
   "id": "9528e5c4",
   "metadata": {},
   "outputs": [
    {
     "name": "stdout",
     "output_type": "stream",
     "text": [
      "{'Video': 1, 'provides': 1, 'a': 2, 'powerful': 1, 'way': 1, 'to': 3, 'help': 1, 'you': 4, 'prove': 1, 'your': 2, 'point.': 1, 'When': 1, 'click': 1, 'Online': 1, 'Video,': 1, 'can': 2, 'paste': 1, 'in': 1, 'the': 3, 'embed': 1, 'code': 1, 'for': 2, 'video': 2, 'want': 1, 'add.': 1, 'You': 1, 'also': 1, 'type': 1, 'keyword': 1, 'search': 1, 'online': 1, 'that': 1, 'best': 1, 'fits': 1, 'document.': 1}\n",
      "[['you', 4], ['to', 3], ['the', 3], ['a', 2], ['your', 2], ['can', 2], ['for', 2], ['video', 2], ['Video', 1], ['provides', 1], ['powerful', 1], ['way', 1], ['help', 1], ['prove', 1], ['point.', 1], ['When', 1], ['click', 1], ['Online', 1], ['Video,', 1], ['paste', 1], ['in', 1], ['embed', 1], ['code', 1], ['want', 1], ['add.', 1], ['You', 1], ['also', 1], ['type', 1], ['keyword', 1], ['search', 1], ['online', 1], ['that', 1], ['best', 1], ['fits', 1], ['document.', 1]]\n"
     ]
    }
   ],
   "source": [
    "print(d)\n",
    "d1 = sorted(d.items(), key=lambda x:x[1],reverse=True)\n",
    "L=[]\n",
    "for i in d1:\n",
    "    L.append(list(i))\n",
    "print(L)"
   ]
  },
  {
   "cell_type": "code",
   "execution_count": 42,
   "id": "c89fec16",
   "metadata": {},
   "outputs": [
    {
     "name": "stdout",
     "output_type": "stream",
     "text": [
      "--  --  --  --  --\n",
      "91   9  15   6  51\n",
      "11  19  39  27  31\n",
      "12  67   2  35  16\n",
      "57  47  70  21  16\n",
      "19  59  66  74  14\n",
      "--  --  --  --  --\n",
      "--  --  --  ---  --\n",
      "24   5  10   42  72\n",
      "22   8  28   51  36\n",
      "31  12  99   79  48\n",
      "79  67  95  100  57\n",
      "35   3  23   26  66\n",
      "--  --  --  ---  --\n",
      "---  ---  ---  ---  ---\n",
      "115   14   25   48  123\n",
      " 33   27   67   78   67\n",
      " 43   79  101  114   64\n",
      "136  114  165  121   73\n",
      " 54   62   89  100   80\n",
      "---  ---  ---  ---  ---\n",
      "---  --  ---  ---  --\n",
      "115  31   46   85  86\n",
      " 16  27   51   94  34\n",
      " 22  95  101  130  39\n",
      " 99  98  149  121  42\n",
      " 91  95  114  131  80\n",
      "---  --  ---  ---  --\n"
     ]
    }
   ],
   "source": [
    "import random\n",
    "def product(a,b):\n",
    "    c=[[0 for i in range(5)] for j in range(5)]\n",
    "    for i in range(5):\n",
    "        for j in range(5):\n",
    "            \n",
    "            for k in range(5):\n",
    "                \n",
    "    \n",
    "a=[[random.randint(1,100) for i in range (5)] for j in range (5)]\n",
    "b=[[random.randint(1,100) for i in range (5)] for j in range (5)]\n",
    "r=[]\n",
    "for i in range(5) :\n",
    "    l=[]\n",
    "    for j in range(5) :\n",
    "        l.append(a[i][j]+b[i][j])\n",
    "    r.append(l)\n",
    "p=[]\n",
    "for i in range (5):\n",
    "    l=[]\n",
    "    for j in range(5) :\n",
    "        sum=0\n",
    "        sum+=a[i][j]+b[j][i]\n",
    "        l.append(sum)\n",
    "    p.append(l)\n",
    "        \n",
    "print(tabulate(a))\n",
    "print(tabulate(b))\n",
    "print(tabulate(r))\n",
    "print(tabulate(p))"
   ]
  },
  {
   "cell_type": "code",
   "execution_count": 27,
   "id": "eeb78c4d",
   "metadata": {},
   "outputs": [
    {
     "name": "stdout",
     "output_type": "stream",
     "text": [
      "╒════════╤════════╤═══════╤═════════╤═══════════╤═════════╤══════════════╕\n",
      "│   Roll │ Name   │   Eng │   Maths │   Science │   total │   presentage │\n",
      "╞════════╪════════╪═══════╪═════════╪═══════════╪═════════╪══════════════╡\n",
      "│      1 │ A      │    86 │      76 │       100 │     262 │      87.3333 │\n",
      "├────────┼────────┼───────┼─────────┼───────────┼─────────┼──────────────┤\n",
      "│      2 │ B      │    13 │      57 │        32 │     102 │      34      │\n",
      "├────────┼────────┼───────┼─────────┼───────────┼─────────┼──────────────┤\n",
      "│      3 │ C      │    95 │      62 │        55 │     212 │      70.6667 │\n",
      "╘════════╧════════╧═══════╧═════════╧═══════════╧═════════╧══════════════╛\n"
     ]
    }
   ],
   "source": [
    "import random\n",
    "from tabulate import tabulate\n",
    "d={'Roll':[1,2,3],'Name':['A','B','C'],'Eng':[random.randint(1,100) for i in range (3)],'Maths': [random.randint(1,100) for i in range (3)],'Science':[random.randint(1,100) for i in range (3)]}\n",
    "total=[]\n",
    "per=[]\n",
    "for i in range(3) :\n",
    "    s=d['Eng'][i]+d['Maths'][i]+d['Science'][i]\n",
    "    p=s/3;\n",
    "    total.append(s)\n",
    "    per.append(p)\n",
    "d['total']=total\n",
    "d['presentage']=per\n",
    "l=[d.keys()]\n",
    "for i in range(3):\n",
    "    x=[]\n",
    "    for j in d:\n",
    "        x.append(d[j][i])\n",
    "    l.append(x)   \n",
    "print(tabulate(l,tablefmt=\"fancy_grid\",headers='firstrow'))\n"
   ]
  },
  {
   "cell_type": "code",
   "execution_count": 38,
   "id": "fc1a5728",
   "metadata": {},
   "outputs": [
    {
     "name": "stdout",
     "output_type": "stream",
     "text": [
      "6\n",
      "1\n"
     ]
    }
   ],
   "source": [
    "import numpy as np\n",
    "a=np.array([1,2,4,5]) #ndmin=5)\n",
    "\n",
    "print(a[1]+a[2])\n",
    "print(a.ndim)"
   ]
  },
  {
   "cell_type": "code",
   "execution_count": null,
   "id": "ded7d734",
   "metadata": {},
   "outputs": [],
   "source": []
  }
 ],
 "metadata": {
  "kernelspec": {
   "display_name": "Python 3 (ipykernel)",
   "language": "python",
   "name": "python3"
  },
  "language_info": {
   "codemirror_mode": {
    "name": "ipython",
    "version": 3
   },
   "file_extension": ".py",
   "mimetype": "text/x-python",
   "name": "python",
   "nbconvert_exporter": "python",
   "pygments_lexer": "ipython3",
   "version": "3.9.13"
  }
 },
 "nbformat": 4,
 "nbformat_minor": 5
}
